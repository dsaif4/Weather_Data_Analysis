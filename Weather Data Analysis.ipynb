{
 "cells": [
  {
   "cell_type": "code",
   "execution_count": 14,
   "id": "de6996b8",
   "metadata": {},
   "outputs": [
    {
     "data": {
      "text/html": [
       "<div>\n",
       "<style scoped>\n",
       "    .dataframe tbody tr th:only-of-type {\n",
       "        vertical-align: middle;\n",
       "    }\n",
       "\n",
       "    .dataframe tbody tr th {\n",
       "        vertical-align: top;\n",
       "    }\n",
       "\n",
       "    .dataframe thead th {\n",
       "        text-align: right;\n",
       "    }\n",
       "</style>\n",
       "<table border=\"1\" class=\"dataframe\">\n",
       "  <thead>\n",
       "    <tr style=\"text-align: right;\">\n",
       "      <th></th>\n",
       "      <th>Location</th>\n",
       "      <th>Temperature_C</th>\n",
       "      <th>Humidity_pct</th>\n",
       "      <th>Precipitation_mm</th>\n",
       "      <th>Wind_Speed_kmh</th>\n",
       "    </tr>\n",
       "    <tr>\n",
       "      <th>Date_Time</th>\n",
       "      <th></th>\n",
       "      <th></th>\n",
       "      <th></th>\n",
       "      <th></th>\n",
       "      <th></th>\n",
       "    </tr>\n",
       "  </thead>\n",
       "  <tbody>\n",
       "    <tr>\n",
       "      <th>2024-01-14 21:12:46</th>\n",
       "      <td>San Diego</td>\n",
       "      <td>10.683001</td>\n",
       "      <td>41.195754</td>\n",
       "      <td>4.020119</td>\n",
       "      <td>8.233540</td>\n",
       "    </tr>\n",
       "    <tr>\n",
       "      <th>2024-05-17 15:22:10</th>\n",
       "      <td>San Diego</td>\n",
       "      <td>8.734140</td>\n",
       "      <td>58.319107</td>\n",
       "      <td>9.111623</td>\n",
       "      <td>27.715161</td>\n",
       "    </tr>\n",
       "    <tr>\n",
       "      <th>2024-05-11 09:30:59</th>\n",
       "      <td>San Diego</td>\n",
       "      <td>11.632436</td>\n",
       "      <td>38.820175</td>\n",
       "      <td>4.607511</td>\n",
       "      <td>28.732951</td>\n",
       "    </tr>\n",
       "    <tr>\n",
       "      <th>2024-02-26 17:32:39</th>\n",
       "      <td>Philadelphia</td>\n",
       "      <td>-8.628976</td>\n",
       "      <td>54.074474</td>\n",
       "      <td>3.183720</td>\n",
       "      <td>26.367303</td>\n",
       "    </tr>\n",
       "    <tr>\n",
       "      <th>2024-04-29 13:23:51</th>\n",
       "      <td>San Antonio</td>\n",
       "      <td>39.808213</td>\n",
       "      <td>72.899908</td>\n",
       "      <td>9.598282</td>\n",
       "      <td>29.898622</td>\n",
       "    </tr>\n",
       "  </tbody>\n",
       "</table>\n",
       "</div>"
      ],
      "text/plain": [
       "                         Location  Temperature_C  Humidity_pct  \\\n",
       "Date_Time                                                        \n",
       "2024-01-14 21:12:46     San Diego      10.683001     41.195754   \n",
       "2024-05-17 15:22:10     San Diego       8.734140     58.319107   \n",
       "2024-05-11 09:30:59     San Diego      11.632436     38.820175   \n",
       "2024-02-26 17:32:39  Philadelphia      -8.628976     54.074474   \n",
       "2024-04-29 13:23:51   San Antonio      39.808213     72.899908   \n",
       "\n",
       "                     Precipitation_mm  Wind_Speed_kmh  \n",
       "Date_Time                                              \n",
       "2024-01-14 21:12:46          4.020119        8.233540  \n",
       "2024-05-17 15:22:10          9.111623       27.715161  \n",
       "2024-05-11 09:30:59          4.607511       28.732951  \n",
       "2024-02-26 17:32:39          3.183720       26.367303  \n",
       "2024-04-29 13:23:51          9.598282       29.898622  "
      ]
     },
     "execution_count": 14,
     "metadata": {},
     "output_type": "execute_result"
    }
   ],
   "source": [
    "import pandas as pd\n",
    "import numpy as np\n",
    "import matplotlib.pyplot as plt\n",
    "%matplotlib inline\n",
    "import calendar\n",
    "import datetime\n",
    "import seaborn as sns\n",
    "\n",
    "df = pd.read_csv(\"D:\\\\Data_Science\\\\Datasets\\\\Wather Data\\\\weather_data.csv\", parse_dates = True, index_col = 'Date_Time')\n",
    "df.head()"
   ]
  },
  {
   "cell_type": "code",
   "execution_count": 2,
   "id": "fb8583a3",
   "metadata": {},
   "outputs": [
    {
     "data": {
      "text/plain": [
       "Index(['Location', 'Temperature_C', 'Humidity_pct', 'Precipitation_mm',\n",
       "       'Wind_Speed_kmh'],\n",
       "      dtype='object')"
      ]
     },
     "execution_count": 2,
     "metadata": {},
     "output_type": "execute_result"
    }
   ],
   "source": [
    "# check the names of the column\n",
    "df.columns"
   ]
  },
  {
   "cell_type": "code",
   "execution_count": 3,
   "id": "cae9e804",
   "metadata": {},
   "outputs": [
    {
     "data": {
      "text/plain": [
       "(1000000, 5)"
      ]
     },
     "execution_count": 3,
     "metadata": {},
     "output_type": "execute_result"
    }
   ],
   "source": [
    "# check the size of the datasets\n",
    "df.shape"
   ]
  },
  {
   "cell_type": "code",
   "execution_count": 4,
   "id": "a97a9f41",
   "metadata": {},
   "outputs": [
    {
     "name": "stdout",
     "output_type": "stream",
     "text": [
      "<class 'pandas.core.frame.DataFrame'>\n",
      "DatetimeIndex: 1000000 entries, 2024-01-14 21:12:46 to 2024-04-16 16:11:52\n",
      "Data columns (total 5 columns):\n",
      " #   Column            Non-Null Count    Dtype  \n",
      "---  ------            --------------    -----  \n",
      " 0   Location          1000000 non-null  object \n",
      " 1   Temperature_C     1000000 non-null  float64\n",
      " 2   Humidity_pct      1000000 non-null  float64\n",
      " 3   Precipitation_mm  1000000 non-null  float64\n",
      " 4   Wind_Speed_kmh    1000000 non-null  float64\n",
      "dtypes: float64(4), object(1)\n",
      "memory usage: 45.8+ MB\n"
     ]
    }
   ],
   "source": [
    "# check the basic information \n",
    "df.info()"
   ]
  },
  {
   "cell_type": "code",
   "execution_count": 5,
   "id": "b6c5a994",
   "metadata": {},
   "outputs": [
    {
     "data": {
      "text/plain": [
       "array(['San Diego', 'Philadelphia', 'San Antonio', 'San Jose', 'New York',\n",
       "       'Houston', 'Dallas', 'Chicago', 'Los Angeles', 'Phoenix'],\n",
       "      dtype=object)"
      ]
     },
     "execution_count": 5,
     "metadata": {},
     "output_type": "execute_result"
    }
   ],
   "source": [
    "# Check the number of unique locations\n",
    "df['Location'].unique()"
   ]
  },
  {
   "cell_type": "code",
   "execution_count": 6,
   "id": "2ddcb962",
   "metadata": {},
   "outputs": [
    {
     "data": {
      "text/html": [
       "<div>\n",
       "<style scoped>\n",
       "    .dataframe tbody tr th:only-of-type {\n",
       "        vertical-align: middle;\n",
       "    }\n",
       "\n",
       "    .dataframe tbody tr th {\n",
       "        vertical-align: top;\n",
       "    }\n",
       "\n",
       "    .dataframe thead th {\n",
       "        text-align: right;\n",
       "    }\n",
       "</style>\n",
       "<table border=\"1\" class=\"dataframe\">\n",
       "  <thead>\n",
       "    <tr style=\"text-align: right;\">\n",
       "      <th></th>\n",
       "      <th>Temperature_C</th>\n",
       "      <th>Humidity_pct</th>\n",
       "      <th>Precipitation_mm</th>\n",
       "      <th>Wind_Speed_kmh</th>\n",
       "    </tr>\n",
       "  </thead>\n",
       "  <tbody>\n",
       "    <tr>\n",
       "      <th>count</th>\n",
       "      <td>1000000.000000</td>\n",
       "      <td>1000000.000000</td>\n",
       "      <td>1000000.000000</td>\n",
       "      <td>1000000.000000</td>\n",
       "    </tr>\n",
       "    <tr>\n",
       "      <th>mean</th>\n",
       "      <td>14.779705</td>\n",
       "      <td>60.021830</td>\n",
       "      <td>5.109639</td>\n",
       "      <td>14.997598</td>\n",
       "    </tr>\n",
       "    <tr>\n",
       "      <th>std</th>\n",
       "      <td>14.482558</td>\n",
       "      <td>17.324022</td>\n",
       "      <td>2.947997</td>\n",
       "      <td>8.663556</td>\n",
       "    </tr>\n",
       "    <tr>\n",
       "      <th>min</th>\n",
       "      <td>-19.969311</td>\n",
       "      <td>30.000009</td>\n",
       "      <td>0.000009</td>\n",
       "      <td>0.000051</td>\n",
       "    </tr>\n",
       "    <tr>\n",
       "      <th>25%</th>\n",
       "      <td>2.269631</td>\n",
       "      <td>45.008500</td>\n",
       "      <td>2.580694</td>\n",
       "      <td>7.490101</td>\n",
       "    </tr>\n",
       "    <tr>\n",
       "      <th>50%</th>\n",
       "      <td>14.778002</td>\n",
       "      <td>60.018708</td>\n",
       "      <td>5.109917</td>\n",
       "      <td>14.993777</td>\n",
       "    </tr>\n",
       "    <tr>\n",
       "      <th>75%</th>\n",
       "      <td>27.270489</td>\n",
       "      <td>75.043818</td>\n",
       "      <td>7.613750</td>\n",
       "      <td>22.514110</td>\n",
       "    </tr>\n",
       "    <tr>\n",
       "      <th>max</th>\n",
       "      <td>39.999801</td>\n",
       "      <td>89.999977</td>\n",
       "      <td>14.971583</td>\n",
       "      <td>29.999973</td>\n",
       "    </tr>\n",
       "  </tbody>\n",
       "</table>\n",
       "</div>"
      ],
      "text/plain": [
       "        Temperature_C    Humidity_pct  Precipitation_mm  Wind_Speed_kmh\n",
       "count  1000000.000000  1000000.000000    1000000.000000  1000000.000000\n",
       "mean        14.779705       60.021830          5.109639       14.997598\n",
       "std         14.482558       17.324022          2.947997        8.663556\n",
       "min        -19.969311       30.000009          0.000009        0.000051\n",
       "25%          2.269631       45.008500          2.580694        7.490101\n",
       "50%         14.778002       60.018708          5.109917       14.993777\n",
       "75%         27.270489       75.043818          7.613750       22.514110\n",
       "max         39.999801       89.999977         14.971583       29.999973"
      ]
     },
     "execution_count": 6,
     "metadata": {},
     "output_type": "execute_result"
    }
   ],
   "source": [
    "# lets check the statistical summary of the datsets\n",
    "df.describe()"
   ]
  },
  {
   "cell_type": "code",
   "execution_count": 7,
   "id": "66ebd74e",
   "metadata": {},
   "outputs": [
    {
     "name": "stdout",
     "output_type": "stream",
     "text": [
      "Location\n",
      "Chicago         39.998561\n",
      "Dallas          39.998804\n",
      "Houston         39.998913\n",
      "Los Angeles     39.999592\n",
      "New York        39.999801\n",
      "Philadelphia    39.999642\n",
      "Phoenix         39.998889\n",
      "San Antonio     39.998343\n",
      "San Diego       39.999692\n",
      "San Jose        39.999015\n",
      "Name: Temperature_C, dtype: float64\n"
     ]
    }
   ],
   "source": [
    "# Find out the maximum temprature in each city\n",
    "max_temp_each_city = df.groupby(\"Location\")['Temperature_C'].max()\n",
    "print(max_temp_each_city)"
   ]
  },
  {
   "cell_type": "code",
   "execution_count": 8,
   "id": "ce4c3b08",
   "metadata": {},
   "outputs": [
    {
     "name": "stdout",
     "output_type": "stream",
     "text": [
      "Location\n",
      "Chicago         -9.999959\n",
      "Dallas          -9.999588\n",
      "Houston         -9.999874\n",
      "Los Angeles     -9.999913\n",
      "New York        -9.999870\n",
      "Philadelphia    -9.999282\n",
      "Phoenix        -19.969311\n",
      "San Antonio     -9.999964\n",
      "San Diego       -9.999986\n",
      "San Jose        -9.999966\n",
      "Name: Temperature_C, dtype: float64\n"
     ]
    }
   ],
   "source": [
    "# Find out the minimum temprature in each city\n",
    "min_temp_each_city = df.groupby(\"Location\")['Temperature_C'].min()\n",
    "print(min_temp_each_city)"
   ]
  },
  {
   "cell_type": "code",
   "execution_count": 10,
   "id": "4d3fec87",
   "metadata": {},
   "outputs": [
    {
     "data": {
      "text/plain": [
       "-19.96931109358452"
      ]
     },
     "execution_count": 10,
     "metadata": {},
     "output_type": "execute_result"
    }
   ],
   "source": [
    "# lets check the coolest temprature\n",
    "df['Temperature_C'].min()"
   ]
  },
  {
   "cell_type": "code",
   "execution_count": 11,
   "id": "cb6b3bde",
   "metadata": {},
   "outputs": [
    {
     "data": {
      "text/plain": [
       "Location              Chicago\n",
       "Temperature_C      -19.969311\n",
       "Humidity_pct        30.000009\n",
       "Precipitation_mm     0.000009\n",
       "Wind_Speed_kmh       0.000051\n",
       "dtype: object"
      ]
     },
     "execution_count": 11,
     "metadata": {},
     "output_type": "execute_result"
    }
   ],
   "source": [
    "# Check the coolest place from the datset\n",
    "df.min()"
   ]
  },
  {
   "cell_type": "code",
   "execution_count": 12,
   "id": "73288a25",
   "metadata": {},
   "outputs": [
    {
     "data": {
      "text/plain": [
       "Location             San Jose\n",
       "Temperature_C       39.999801\n",
       "Humidity_pct        89.999977\n",
       "Precipitation_mm    14.971583\n",
       "Wind_Speed_kmh      29.999973\n",
       "dtype: object"
      ]
     },
     "execution_count": 12,
     "metadata": {},
     "output_type": "execute_result"
    }
   ],
   "source": [
    "# Check the hotest place3 from the Dataset\n",
    "df.max()"
   ]
  },
  {
   "cell_type": "code",
   "execution_count": 13,
   "id": "044158c5",
   "metadata": {},
   "outputs": [
    {
     "data": {
      "text/html": [
       "<div>\n",
       "<style scoped>\n",
       "    .dataframe tbody tr th:only-of-type {\n",
       "        vertical-align: middle;\n",
       "    }\n",
       "\n",
       "    .dataframe tbody tr th {\n",
       "        vertical-align: top;\n",
       "    }\n",
       "\n",
       "    .dataframe thead th {\n",
       "        text-align: right;\n",
       "    }\n",
       "</style>\n",
       "<table border=\"1\" class=\"dataframe\">\n",
       "  <thead>\n",
       "    <tr style=\"text-align: right;\">\n",
       "      <th></th>\n",
       "      <th>Temperature_C</th>\n",
       "      <th>Humidity_pct</th>\n",
       "      <th>Precipitation_mm</th>\n",
       "      <th>Wind_Speed_kmh</th>\n",
       "    </tr>\n",
       "  </thead>\n",
       "  <tbody>\n",
       "    <tr>\n",
       "      <th>Temperature_C</th>\n",
       "      <td>1.000000</td>\n",
       "      <td>-0.001344</td>\n",
       "      <td>-0.010876</td>\n",
       "      <td>-0.001273</td>\n",
       "    </tr>\n",
       "    <tr>\n",
       "      <th>Humidity_pct</th>\n",
       "      <td>-0.001344</td>\n",
       "      <td>1.000000</td>\n",
       "      <td>-0.000264</td>\n",
       "      <td>-0.000642</td>\n",
       "    </tr>\n",
       "    <tr>\n",
       "      <th>Precipitation_mm</th>\n",
       "      <td>-0.010876</td>\n",
       "      <td>-0.000264</td>\n",
       "      <td>1.000000</td>\n",
       "      <td>0.000981</td>\n",
       "    </tr>\n",
       "    <tr>\n",
       "      <th>Wind_Speed_kmh</th>\n",
       "      <td>-0.001273</td>\n",
       "      <td>-0.000642</td>\n",
       "      <td>0.000981</td>\n",
       "      <td>1.000000</td>\n",
       "    </tr>\n",
       "  </tbody>\n",
       "</table>\n",
       "</div>"
      ],
      "text/plain": [
       "                  Temperature_C  Humidity_pct  Precipitation_mm  \\\n",
       "Temperature_C          1.000000     -0.001344         -0.010876   \n",
       "Humidity_pct          -0.001344      1.000000         -0.000264   \n",
       "Precipitation_mm      -0.010876     -0.000264          1.000000   \n",
       "Wind_Speed_kmh        -0.001273     -0.000642          0.000981   \n",
       "\n",
       "                  Wind_Speed_kmh  \n",
       "Temperature_C          -0.001273  \n",
       "Humidity_pct           -0.000642  \n",
       "Precipitation_mm        0.000981  \n",
       "Wind_Speed_kmh          1.000000  "
      ]
     },
     "execution_count": 13,
     "metadata": {},
     "output_type": "execute_result"
    }
   ],
   "source": [
    "# check the correlation among the variable \n",
    "df.corr()"
   ]
  },
  {
   "cell_type": "markdown",
   "id": "1d5d6821",
   "metadata": {},
   "source": [
    "### From above we can see that Precipitation and wind Speed are highly corelated with each other"
   ]
  },
  {
   "cell_type": "markdown",
   "id": "6ae85626",
   "metadata": {},
   "source": [
    "#### Create a heatmap for above data "
   ]
  },
  {
   "cell_type": "code",
   "execution_count": 18,
   "id": "73ffef23",
   "metadata": {},
   "outputs": [
    {
     "data": {
      "image/png": "[encoded data removed]",
      "text/plain": [
       "<Figure size 576x432 with 2 Axes>"
      ]
     },
     "metadata": {
      "needs_background": "light"
     },
     "output_type": "display_data"
    }
   ],
   "source": [
    "plt.figure(figsize=(8,6))\n",
    "sns.heatmap(df.corr(), annot = True, linewidths=0.5)\n",
    "plt.title(\"Correlation Matrix Heatmap\")\n",
    "plt.show()"
   ]
  }
 ],
 "metadata": {
  "kernelspec": {
   "display_name": "Python 3",
   "language": "python",
   "name": "python3"
  },
  "language_info": {
   "codemirror_mode": {
    "name": "ipython",
    "version": 3
   },
   "file_extension": ".py",
   "mimetype": "text/x-python",
   "name": "python",
   "nbconvert_exporter": "python",
   "pygments_lexer": "ipython3",
   "version": "3.8.8"
  }
 },
 "nbformat": 4,
 "nbformat_minor": 5
}
